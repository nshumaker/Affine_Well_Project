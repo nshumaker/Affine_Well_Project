{
 "cells": [
  {
   "cell_type": "markdown",
   "id": "eb63bcb7",
   "metadata": {},
   "source": [
    "Note workflow only is for the machine learning, no mapping commands"
   ]
  },
  {
   "cell_type": "code",
   "execution_count": 1,
   "id": "3898d042",
   "metadata": {},
   "outputs": [],
   "source": [
    "#import base packages\n",
    "import os\n",
    "import pandas as pd\n",
    "import numpy as np\n",
    "# Plotting\n",
    "import matplotlib.pyplot as plt\n",
    "#machine learning package\n",
    "from sklearn import preprocessing\n",
    "from sklearn.utils import shuffle\n",
    "from sklearn.ensemble import GradientBoostingRegressor\n"
   ]
  },
  {
   "cell_type": "code",
   "execution_count": 2,
   "id": "74ecf46f",
   "metadata": {},
   "outputs": [],
   "source": [
    "#define filepaths\n",
    "base_dir = os.getcwd()\n",
    "#well data\n",
    "file_name_well_data = 'src\\df_dataset.csv'\n",
    "path_dataset = os.path.join(base_dir, file_name_well_data)\n"
   ]
  },
  {
   "cell_type": "code",
   "execution_count": 3,
   "id": "a817e6cb",
   "metadata": {},
   "outputs": [],
   "source": [
    "def col_filter_keep(df_in, list_keep):\n",
    "    df_out = df_in.drop(columns=df_in.columns.difference(list_keep))\n",
    "    return df_out"
   ]
  },
  {
   "cell_type": "code",
   "execution_count": 4,
   "id": "828d51d2",
   "metadata": {},
   "outputs": [
    {
     "data": {
      "text/html": [
       "<div>\n",
       "<style scoped>\n",
       "    .dataframe tbody tr th:only-of-type {\n",
       "        vertical-align: middle;\n",
       "    }\n",
       "\n",
       "    .dataframe tbody tr th {\n",
       "        vertical-align: top;\n",
       "    }\n",
       "\n",
       "    .dataframe thead th {\n",
       "        text-align: right;\n",
       "    }\n",
       "</style>\n",
       "<table border=\"1\" class=\"dataframe\">\n",
       "  <thead>\n",
       "    <tr style=\"text-align: right;\">\n",
       "      <th></th>\n",
       "      <th>Fluid_per_Ft</th>\n",
       "      <th>Lat_length</th>\n",
       "      <th>Max_Gas_per_Ft</th>\n",
       "      <th>Proppant_per_Ft</th>\n",
       "    </tr>\n",
       "  </thead>\n",
       "  <tbody>\n",
       "    <tr>\n",
       "      <th>0</th>\n",
       "      <td>41.513017</td>\n",
       "      <td>4571</td>\n",
       "      <td>156.941151</td>\n",
       "      <td>1065.880551</td>\n",
       "    </tr>\n",
       "    <tr>\n",
       "      <th>1</th>\n",
       "      <td>18.726208</td>\n",
       "      <td>4781</td>\n",
       "      <td>116.352228</td>\n",
       "      <td>817.818239</td>\n",
       "    </tr>\n",
       "    <tr>\n",
       "      <th>2</th>\n",
       "      <td>20.250969</td>\n",
       "      <td>4128</td>\n",
       "      <td>157.401163</td>\n",
       "      <td>473.645349</td>\n",
       "    </tr>\n",
       "  </tbody>\n",
       "</table>\n",
       "</div>"
      ],
      "text/plain": [
       "   Fluid_per_Ft  Lat_length  Max_Gas_per_Ft  Proppant_per_Ft\n",
       "0     41.513017        4571      156.941151      1065.880551\n",
       "1     18.726208        4781      116.352228       817.818239\n",
       "2     20.250969        4128      157.401163       473.645349"
      ]
     },
     "execution_count": 4,
     "metadata": {},
     "output_type": "execute_result"
    }
   ],
   "source": [
    "df_dataset = pd.read_csv(path_dataset)\n",
    "model_cols_keep = ['Lat_length','Proppant_per_Ft','Fluid_per_Ft','Max_Gas_per_Ft']\n",
    "df_model = col_filter_keep(df_dataset, model_cols_keep)\n",
    "df_model.sort_index(axis=1, ascending=True, inplace=True)\n",
    "df_model.head(3)"
   ]
  },
  {
   "cell_type": "code",
   "execution_count": 5,
   "id": "96e03b6a",
   "metadata": {},
   "outputs": [],
   "source": [
    "def shuffle_and_split(df_in, shuffle_bool, test_size, y_col):\n",
    "    if shuffle_bool == True:\n",
    "        df_shuffled = shuffle(df_in, random_state=13) # 1337\n",
    "    else:\n",
    "        df_shuffled = df_in\n",
    "    split_index = int((1-test_size)*len(df_shuffled))\n",
    "    df_train_set = df_shuffled.iloc[0:split_index,:]\n",
    "    df_test_set = df_shuffled.iloc[split_index:,:]\n",
    "    # %train/test split\n",
    "    X_cols = df_in.columns.difference([y_col]).to_list()\n",
    "    X_train = df_train_set[X_cols]\n",
    "    y_train = df_train_set[y_col]\n",
    "    # test\n",
    "    X_test = df_test_set[X_cols]\n",
    "    y_test = df_test_set[y_col]\n",
    "    return(df_train_set, df_test_set, X_train, y_train, X_test, y_test)"
   ]
  },
  {
   "cell_type": "code",
   "execution_count": 6,
   "id": "aed650a4",
   "metadata": {},
   "outputs": [],
   "source": [
    "df_train_set, df_test_set, X_train, y_train, X_test, y_test = shuffle_and_split(df_model, False, .2, 'Max_Gas_per_Ft')"
   ]
  },
  {
   "cell_type": "code",
   "execution_count": 7,
   "id": "d6c0cae5",
   "metadata": {},
   "outputs": [
    {
     "data": {
      "text/html": [
       "<div>\n",
       "<style scoped>\n",
       "    .dataframe tbody tr th:only-of-type {\n",
       "        vertical-align: middle;\n",
       "    }\n",
       "\n",
       "    .dataframe tbody tr th {\n",
       "        vertical-align: top;\n",
       "    }\n",
       "\n",
       "    .dataframe thead th {\n",
       "        text-align: right;\n",
       "    }\n",
       "</style>\n",
       "<table border=\"1\" class=\"dataframe\">\n",
       "  <thead>\n",
       "    <tr style=\"text-align: right;\">\n",
       "      <th></th>\n",
       "      <th>Fluid_per_Ft</th>\n",
       "      <th>Lat_length</th>\n",
       "      <th>Proppant_per_Ft</th>\n",
       "    </tr>\n",
       "  </thead>\n",
       "  <tbody>\n",
       "    <tr>\n",
       "      <th>0</th>\n",
       "      <td>41.513017</td>\n",
       "      <td>4571</td>\n",
       "      <td>1065.880551</td>\n",
       "    </tr>\n",
       "    <tr>\n",
       "      <th>1</th>\n",
       "      <td>18.726208</td>\n",
       "      <td>4781</td>\n",
       "      <td>817.818239</td>\n",
       "    </tr>\n",
       "    <tr>\n",
       "      <th>2</th>\n",
       "      <td>20.250969</td>\n",
       "      <td>4128</td>\n",
       "      <td>473.645349</td>\n",
       "    </tr>\n",
       "  </tbody>\n",
       "</table>\n",
       "</div>"
      ],
      "text/plain": [
       "   Fluid_per_Ft  Lat_length  Proppant_per_Ft\n",
       "0     41.513017        4571      1065.880551\n",
       "1     18.726208        4781       817.818239\n",
       "2     20.250969        4128       473.645349"
      ]
     },
     "execution_count": 7,
     "metadata": {},
     "output_type": "execute_result"
    }
   ],
   "source": [
    "X_train.head(3)"
   ]
  },
  {
   "cell_type": "code",
   "execution_count": 8,
   "id": "4dc04392",
   "metadata": {},
   "outputs": [
    {
     "data": {
      "text/plain": [
       "GradientBoostingRegressor(max_depth=5, max_features=3, min_samples_split=0.1,\n",
       "                          n_estimators=25, random_state=0)"
      ]
     },
     "execution_count": 8,
     "metadata": {},
     "output_type": "execute_result"
    }
   ],
   "source": [
    "dict_params = {'n_estimators':25,'max_depth':5,'max_features':3,'min_samples_split':.1}\n",
    "model_gbm = GradientBoostingRegressor(**dict_params,random_state=0)\n",
    "model_gbm.fit(X_train,y_train)"
   ]
  },
  {
   "cell_type": "code",
   "execution_count": 9,
   "id": "be8b0434",
   "metadata": {},
   "outputs": [],
   "source": [
    "#explanation: designed for a 3 feature model, nsteps is meshgrid dimension\n",
    "#purpose: finds the \"optimum 'X' feature values to maximize y\"\n",
    "#returns a series of the max features of the meshgrid prediction\n",
    "\n",
    "def model_3D_meshgrid(trained_model, X, y, feature1, feature2, feature3, nsteps):\n",
    "    #ranges\n",
    "    xmin=X_train[feature1].min()\n",
    "    xmax=X_train[feature1].max()\n",
    "    ymin=X_train[feature2].min()\n",
    "    ymax=X_train[feature2].max()\n",
    "    zmin=X_train[feature3].min()\n",
    "    zmax=X_train[feature3].max()\n",
    "    #create meshgrid based on feature ranges\n",
    "    xx, yy, zz = np.meshgrid(np.linspace(xmin,xmax,nsteps), \n",
    "                             np.linspace(ymin, ymax, nsteps), \n",
    "                             np.linspace(zmin, zmax, nsteps))\n",
    "    #pseudo data (meshgrid input to model)\n",
    "    df_meshgrid = pd.DataFrame({feature1:xx.ravel(),feature2:yy.ravel(),feature3:zz.ravel()})\n",
    "    \n",
    "    y_hat = trained_model.predict(df_meshgrid)\n",
    "    index = np.argmax(y_hat)\n",
    "    max_vals = df_meshgrid.iloc[index,:]\n",
    "    return max_vals\n"
   ]
  },
  {
   "cell_type": "code",
   "execution_count": 10,
   "id": "ddf68462",
   "metadata": {},
   "outputs": [],
   "source": [
    "#ensures features are in the same order as the model input (X_train)\n",
    "dict_features = {key:key_str for key, key_str in zip(\n",
    "    ['feature1', 'feature2', 'feature3'],X_train.columns)}"
   ]
  },
  {
   "cell_type": "code",
   "execution_count": 11,
   "id": "12c086dd",
   "metadata": {},
   "outputs": [
    {
     "data": {
      "text/plain": [
       "Fluid_per_Ft        35.5\n",
       "Lat_length         606.0\n",
       "Proppant_per_Ft    967.1\n",
       "Name: 1724, dtype: float64"
      ]
     },
     "execution_count": 11,
     "metadata": {},
     "output_type": "execute_result"
    }
   ],
   "source": [
    "dict_args = {'trained_model':model_gbm,'X':X_train,'y':y_train,'nsteps':50}\n",
    "dict_args.update(dict_features)\n",
    "\n",
    "max_features = np.round(model_3D_meshgrid(**dict_args),1)\n",
    "max_features"
   ]
  },
  {
   "cell_type": "code",
   "execution_count": 12,
   "id": "de044d1c",
   "metadata": {},
   "outputs": [],
   "source": [
    "# this function calculates the meshgrid of predictions for the heatmap\n",
    "#inputs are the features to be cross plotted\n",
    "#output are the xx, yy, Z meshgrid values\n",
    "\n",
    "def model_2D_meshgrid(trained_model, X, y, str_feature1, str_feature2, str_feature3, ser_vals3, nsteps):\n",
    "    # feature 1 and 2 ranges\n",
    "    xmin=X_train[str_feature1].min()\n",
    "    xmax=X_train[str_feature1].max()\n",
    "    ymin=X_train[str_feature2].min()\n",
    "    ymax=X_train[str_feature2].max()\n",
    "    # meshgrid of feature1 and feature2\n",
    "    xx, yy = np.meshgrid(np.linspace(xmin,xmax,nsteps), np.linspace(ymin, ymax, nsteps))\n",
    "    #thrid dimension is all constant values\n",
    "    array_feature3 = np.ones_like(xx.ravel())*ser_vals3[str_feature3]\n",
    "    dict_arrays = {str_feature1:xx.ravel(),str_feature2:yy.ravel(), str_feature3:array_feature3}\n",
    "    #order dictionary in same as Xtrain\n",
    "    dict_meshgrid = {xcol:dict_arrays[xcol] for xcol in X.columns}\n",
    "    df_meshgrid = pd.DataFrame(dict_meshgrid)\n",
    "    # predict\n",
    "    y_hat = trained_model.predict(df_meshgrid)\n",
    "    Z = y_hat.reshape(xx.shape)\n",
    "    return xx, yy, Z\n"
   ]
  },
  {
   "cell_type": "code",
   "execution_count": 13,
   "id": "f7454390",
   "metadata": {},
   "outputs": [],
   "source": [
    "#These dictionaries define the inputs for the \"heatmaps\"\n",
    "#heatmap 1\n",
    "dict_kwargs1 = {'trained_model':model_gbm,'X':X_train,'y':y_train,\n",
    "               'str_feature1':'Proppant_per_Ft','str_feature2':'Fluid_per_Ft','str_feature3':'Lat_length',\n",
    "               'ser_vals3':max_features,'nsteps':50}\n",
    "#heatmap 2\n",
    "dict_kwargs2 = {'trained_model':model_gbm,'X':X_train,'y':y_train,\n",
    "               'str_feature1':'Lat_length','str_feature2':'Fluid_per_Ft','str_feature3':'Proppant_per_Ft',\n",
    "               'ser_vals3':max_features,'nsteps':50}\n",
    "#heatmap 3\n",
    "dict_kwargs3 = {'trained_model':model_gbm,'X':X_train,'y':y_train,\n",
    "               'str_feature1':'Lat_length','str_feature2':'Proppant_per_Ft','str_feature3':'Fluid_per_Ft',\n",
    "               'ser_vals3':max_features,'nsteps':50}"
   ]
  },
  {
   "cell_type": "code",
   "execution_count": 14,
   "id": "2bc6bac4",
   "metadata": {},
   "outputs": [],
   "source": [
    "#demo heatmap format\n",
    "xx, yy, Z = model_2D_meshgrid(**dict_kwargs1)\n",
    "df_out = pd.DataFrame({'xx':xx.ravel(),'yy':yy.ravel(),'Z':Z.ravel()})\n",
    "df_out.to_csv('heatplot_data_out.csv')"
   ]
  },
  {
   "cell_type": "code",
   "execution_count": 15,
   "id": "8bcc02a7",
   "metadata": {},
   "outputs": [],
   "source": [
    "#function to generate plots\n",
    "def plot_meshgrid(meshgrid_args, plotting_args):\n",
    "    fig, ax = plt.subplots(nrows=1, ncols=1, constrained_layout=True)\n",
    "    xx, yy, Z = model_2D_meshgrid(**meshgrid_args)\n",
    "    shw = ax.imshow(Z, extent=(xx.min(), xx.max(), yy.min(), yy.max()),\n",
    "                   **plotting_args)\n",
    "    ax.set_xlabel(meshgrid_args['str_feature1'],size=12)\n",
    "    ax.set_ylabel(meshgrid_args['str_feature2'],size=12)\n",
    "    val3 = meshgrid_args['ser_vals3'][meshgrid_args['str_feature3']]\n",
    "    ax.set_title('{} = {}'.format(meshgrid_args['str_feature3'],val3),\n",
    "                pad=10, size=16, weight='bold')\n",
    "    #colorbar\n",
    "    bar = fig.colorbar(shw)\n",
    "    bar.set_label('Max Gas Rate/FT Lateral') "
   ]
  },
  {
   "cell_type": "code",
   "execution_count": 16,
   "id": "43d73486",
   "metadata": {},
   "outputs": [
    {
     "data": {
      "image/png": "[encoded data removed]",
      "text/plain": [
       "<Figure size 432x288 with 2 Axes>"
      ]
     },
     "metadata": {
      "needs_background": "light"
     },
     "output_type": "display_data"
    }
   ],
   "source": [
    "#Heatmap 1 thrid dimension is from max_features\n",
    "dict_plotting_args = {'cmap':plt.cm.magma,'vmin':0,'vmax':175,'aspect':'auto',\n",
    "                     'origin':'lower'}\n",
    "\n",
    "plot_meshgrid(dict_kwargs1, dict_plotting_args)"
   ]
  },
  {
   "cell_type": "code",
   "execution_count": 17,
   "id": "b6fc2e32",
   "metadata": {},
   "outputs": [
    {
     "data": {
      "image/png": "[encoded data removed]",
      "text/plain": [
       "<Figure size 432x288 with 2 Axes>"
      ]
     },
     "metadata": {
      "needs_background": "light"
     },
     "output_type": "display_data"
    }
   ],
   "source": [
    "#Heatmap 2\n",
    "plot_meshgrid(dict_kwargs2, dict_plotting_args)"
   ]
  },
  {
   "cell_type": "code",
   "execution_count": 18,
   "id": "c30dc62f",
   "metadata": {},
   "outputs": [
    {
     "data": {
      "image/png": "[encoded data removed]",
      "text/plain": [
       "<Figure size 432x288 with 2 Axes>"
      ]
     },
     "metadata": {
      "needs_background": "light"
     },
     "output_type": "display_data"
    }
   ],
   "source": [
    "#Heatmap 3\n",
    "plot_meshgrid(dict_kwargs3, dict_plotting_args)"
   ]
  },
  {
   "cell_type": "code",
   "execution_count": 19,
   "id": "e1e4a3e8",
   "metadata": {},
   "outputs": [
    {
     "data": {
      "text/plain": [
       "Fluid_per_Ft         70.0\n",
       "Lat_length         4000.0\n",
       "Proppant_per_Ft    1600.0\n",
       "Name: 1724, dtype: float64"
      ]
     },
     "execution_count": 19,
     "metadata": {},
     "output_type": "execute_result"
    }
   ],
   "source": [
    "#User inputs for third dimension attributes\n",
    "user_features = max_features.copy()\n",
    "user_features['Fluid_per_Ft'] = 70\n",
    "user_features['Lat_length']= 4000\n",
    "user_features['Proppant_per_Ft'] = 1600\n",
    "user_features"
   ]
  },
  {
   "cell_type": "code",
   "execution_count": 20,
   "id": "1953904f",
   "metadata": {},
   "outputs": [],
   "source": [
    "#These dictionaries define the inputs for the \"heatmaps\" with USER INPUT\n",
    "#heatmap 1 w/User Input\n",
    "dict_kwargs4 = {'trained_model':model_gbm,'X':X_train,'y':y_train,\n",
    "               'str_feature1':'Proppant_per_Ft','str_feature2':'Fluid_per_Ft','str_feature3':'Lat_length',\n",
    "               'ser_vals3':user_features,'nsteps':50}\n",
    "#heatmap 2 w/User Input\n",
    "dict_kwargs5 = {'trained_model':model_gbm,'X':X_train,'y':y_train,\n",
    "               'str_feature1':'Lat_length','str_feature2':'Fluid_per_Ft','str_feature3':'Proppant_per_Ft',\n",
    "               'ser_vals3':user_features,'nsteps':50}\n",
    "#heatmap 3 w/User Input\n",
    "dict_kwargs6 = {'trained_model':model_gbm,'X':X_train,'y':y_train,\n",
    "               'str_feature1':'Lat_length','str_feature2':'Proppant_per_Ft','str_feature3':'Fluid_per_Ft',\n",
    "               'ser_vals3':user_features,'nsteps':50}"
   ]
  },
  {
   "cell_type": "code",
   "execution_count": 21,
   "id": "0ad17622",
   "metadata": {},
   "outputs": [
    {
     "data": {
      "image/png": "[encoded data removed]",
      "text/plain": [
       "<Figure size 432x288 with 2 Axes>"
      ]
     },
     "metadata": {
      "needs_background": "light"
     },
     "output_type": "display_data"
    }
   ],
   "source": [
    "#Heatmap 1 User Input\n",
    "plot_meshgrid(dict_kwargs4, dict_plotting_args)"
   ]
  },
  {
   "cell_type": "code",
   "execution_count": 22,
   "id": "2e0093a5",
   "metadata": {},
   "outputs": [
    {
     "data": {
      "image/png": "[encoded data removed]",
      "text/plain": [
       "<Figure size 432x288 with 2 Axes>"
      ]
     },
     "metadata": {
      "needs_background": "light"
     },
     "output_type": "display_data"
    }
   ],
   "source": [
    "#Heatmap 2 User Input\n",
    "plot_meshgrid(dict_kwargs5, dict_plotting_args)"
   ]
  },
  {
   "cell_type": "code",
   "execution_count": 23,
   "id": "1a62b5dc",
   "metadata": {},
   "outputs": [
    {
     "data": {
      "image/png": "[encoded data removed]",
      "text/plain": [
       "<Figure size 432x288 with 2 Axes>"
      ]
     },
     "metadata": {
      "needs_background": "light"
     },
     "output_type": "display_data"
    }
   ],
   "source": [
    "#Heatmap 3 User Input\n",
    "plot_meshgrid(dict_kwargs6, dict_plotting_args)"
   ]
  },
  {
   "cell_type": "code",
   "execution_count": null,
   "id": "f9af4331",
   "metadata": {},
   "outputs": [],
   "source": []
  }
 ],
 "metadata": {
  "kernelspec": {
   "display_name": "Python 3 (ipykernel)",
   "language": "python",
   "name": "python3"
  },
  "language_info": {
   "codemirror_mode": {
    "name": "ipython",
    "version": 3
   },
   "file_extension": ".py",
   "mimetype": "text/x-python",
   "name": "python",
   "nbconvert_exporter": "python",
   "pygments_lexer": "ipython3",
   "version": "3.8.12"
  }
 },
 "nbformat": 4,
 "nbformat_minor": 5
}
